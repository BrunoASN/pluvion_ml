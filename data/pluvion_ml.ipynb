{
  "nbformat": 4,
  "nbformat_minor": 0,
  "metadata": {
    "colab": {
      "name": "pluvion_ml.ipynb",
      "version": "0.3.2",
      "provenance": [],
      "collapsed_sections": []
    },
    "kernelspec": {
      "name": "python3",
      "display_name": "Python 3"
    }
  },
  "cells": [
    {
      "cell_type": "code",
      "metadata": {
        "id": "JIEyIQ_2nLUX",
        "colab_type": "code",
        "colab": {}
      },
      "source": [
        "import pandas as pd\n",
        "import datetime\n",
        "dados = pd.read_csv('base_data.csv',sep=',')\n",
        "dados = dados.dropna(axis=1, how='any')\n",
        "dados = dados[(dados['forecastType'] == 'BRB2') & (dados['stationHWID'] == 'A12') & ( dados['pc_obs'] != 0) & (dados['pc_prev'] != 0)]\n",
        "dados['forecastDate'] = pd.to_datetime(dados['forecastDate'], format='%Y-%m-%d %H:%M:%S')\n",
        "dados['hour'] = pd.to_datetime(dados['hour'], format='%Y-%m-%d %H:%M:%S')\n",
        "dados['delta_date'] = (dados['hour']-dados['forecastDate']).dt.days\n",
        "dados = dados[(dados['delta_date']<=0)]"
      ],
      "execution_count": 0,
      "outputs": []
    },
    {
      "cell_type": "code",
      "metadata": {
        "id": "JPwHgyPt_kMR",
        "colab_type": "code",
        "outputId": "34735267-e5eb-46db-afc8-5d5b6f907ebd",
        "colab": {
          "base_uri": "https://localhost:8080/",
          "height": 255
        }
      },
      "source": [
        "dados.dtypes"
      ],
      "execution_count": 0,
      "outputs": [
        {
          "output_type": "execute_result",
          "data": {
            "text/plain": [
              "forecastType            object\n",
              "stationHWID             object\n",
              "forecastDate    datetime64[ns]\n",
              "hour            datetime64[ns]\n",
              "ps_prev                float64\n",
              "rh_prev                float64\n",
              "tp_prev                float64\n",
              "tc_prev                float64\n",
              "rd_prev                float64\n",
              "ws_prev                float64\n",
              "pc_prev                float64\n",
              "pc_obs                 float64\n",
              "delta_date               int64\n",
              "dtype: object"
            ]
          },
          "metadata": {
            "tags": []
          },
          "execution_count": 2
        }
      ]
    },
    {
      "cell_type": "code",
      "metadata": {
        "id": "CTGhUxqcpTr5",
        "colab_type": "code",
        "outputId": "3855808b-86e2-4d51-cc31-b41be8eeb617",
        "colab": {
          "base_uri": "https://localhost:8080/",
          "height": 204
        }
      },
      "source": [
        "dados.head()"
      ],
      "execution_count": 0,
      "outputs": [
        {
          "output_type": "execute_result",
          "data": {
            "text/html": [
              "<div>\n",
              "<style scoped>\n",
              "    .dataframe tbody tr th:only-of-type {\n",
              "        vertical-align: middle;\n",
              "    }\n",
              "\n",
              "    .dataframe tbody tr th {\n",
              "        vertical-align: top;\n",
              "    }\n",
              "\n",
              "    .dataframe thead th {\n",
              "        text-align: right;\n",
              "    }\n",
              "</style>\n",
              "<table border=\"1\" class=\"dataframe\">\n",
              "  <thead>\n",
              "    <tr style=\"text-align: right;\">\n",
              "      <th></th>\n",
              "      <th>forecastType</th>\n",
              "      <th>stationHWID</th>\n",
              "      <th>forecastDate</th>\n",
              "      <th>hour</th>\n",
              "      <th>ps_prev</th>\n",
              "      <th>rh_prev</th>\n",
              "      <th>tp_prev</th>\n",
              "      <th>tc_prev</th>\n",
              "      <th>rd_prev</th>\n",
              "      <th>ws_prev</th>\n",
              "      <th>pc_prev</th>\n",
              "      <th>pc_obs</th>\n",
              "      <th>delta_date</th>\n",
              "    </tr>\n",
              "  </thead>\n",
              "  <tbody>\n",
              "    <tr>\n",
              "      <th>13</th>\n",
              "      <td>BRB2</td>\n",
              "      <td>A12</td>\n",
              "      <td>2019-05-31 03:00:00</td>\n",
              "      <td>2019-05-31 04:00:00</td>\n",
              "      <td>1008.0</td>\n",
              "      <td>70.1</td>\n",
              "      <td>27.30</td>\n",
              "      <td>1.00</td>\n",
              "      <td>0.0</td>\n",
              "      <td>3.63</td>\n",
              "      <td>0.1</td>\n",
              "      <td>4.84</td>\n",
              "      <td>0</td>\n",
              "    </tr>\n",
              "    <tr>\n",
              "      <th>14</th>\n",
              "      <td>BRB2</td>\n",
              "      <td>A12</td>\n",
              "      <td>2019-05-31 03:00:00</td>\n",
              "      <td>2019-05-31 05:00:00</td>\n",
              "      <td>1008.2</td>\n",
              "      <td>73.5</td>\n",
              "      <td>26.74</td>\n",
              "      <td>0.94</td>\n",
              "      <td>0.0</td>\n",
              "      <td>1.95</td>\n",
              "      <td>0.2</td>\n",
              "      <td>1.27</td>\n",
              "      <td>0</td>\n",
              "    </tr>\n",
              "    <tr>\n",
              "      <th>15</th>\n",
              "      <td>BRB2</td>\n",
              "      <td>A12</td>\n",
              "      <td>2019-05-31 03:00:00</td>\n",
              "      <td>2019-05-31 06:00:00</td>\n",
              "      <td>1009.0</td>\n",
              "      <td>77.0</td>\n",
              "      <td>26.07</td>\n",
              "      <td>0.98</td>\n",
              "      <td>0.0</td>\n",
              "      <td>1.06</td>\n",
              "      <td>0.1</td>\n",
              "      <td>0.26</td>\n",
              "      <td>0</td>\n",
              "    </tr>\n",
              "    <tr>\n",
              "      <th>16</th>\n",
              "      <td>BRB2</td>\n",
              "      <td>A12</td>\n",
              "      <td>2019-05-31 03:00:00</td>\n",
              "      <td>2019-05-31 07:00:00</td>\n",
              "      <td>1008.7</td>\n",
              "      <td>80.1</td>\n",
              "      <td>25.35</td>\n",
              "      <td>1.00</td>\n",
              "      <td>0.0</td>\n",
              "      <td>1.66</td>\n",
              "      <td>0.1</td>\n",
              "      <td>0.26</td>\n",
              "      <td>0</td>\n",
              "    </tr>\n",
              "    <tr>\n",
              "      <th>27</th>\n",
              "      <td>BRB2</td>\n",
              "      <td>A12</td>\n",
              "      <td>2019-06-01 03:00:00</td>\n",
              "      <td>2019-06-01 07:00:00</td>\n",
              "      <td>1008.2</td>\n",
              "      <td>89.8</td>\n",
              "      <td>24.31</td>\n",
              "      <td>1.00</td>\n",
              "      <td>0.0</td>\n",
              "      <td>1.02</td>\n",
              "      <td>0.7</td>\n",
              "      <td>0.26</td>\n",
              "      <td>0</td>\n",
              "    </tr>\n",
              "  </tbody>\n",
              "</table>\n",
              "</div>"
            ],
            "text/plain": [
              "   forecastType stationHWID        forecastDate  ... pc_prev  pc_obs  delta_date\n",
              "13         BRB2         A12 2019-05-31 03:00:00  ...     0.1    4.84           0\n",
              "14         BRB2         A12 2019-05-31 03:00:00  ...     0.2    1.27           0\n",
              "15         BRB2         A12 2019-05-31 03:00:00  ...     0.1    0.26           0\n",
              "16         BRB2         A12 2019-05-31 03:00:00  ...     0.1    0.26           0\n",
              "27         BRB2         A12 2019-06-01 03:00:00  ...     0.7    0.26           0\n",
              "\n",
              "[5 rows x 13 columns]"
            ]
          },
          "metadata": {
            "tags": []
          },
          "execution_count": 3
        }
      ]
    },
    {
      "cell_type": "code",
      "metadata": {
        "id": "dN3vv6i_qHlj",
        "colab_type": "code",
        "outputId": "8ac1ae15-dc0a-4087-cfca-cdd68cc92992",
        "colab": {
          "base_uri": "https://localhost:8080/",
          "height": 34
        }
      },
      "source": [
        "max(dados['pc_obs'])"
      ],
      "execution_count": 0,
      "outputs": [
        {
          "output_type": "execute_result",
          "data": {
            "text/plain": [
              "18.11"
            ]
          },
          "metadata": {
            "tags": []
          },
          "execution_count": 4
        }
      ]
    },
    {
      "cell_type": "code",
      "metadata": {
        "id": "geQqEP5KpW7c",
        "colab_type": "code",
        "outputId": "545953e7-0bbd-44e9-e2d8-dd601ac9e7bf",
        "colab": {
          "base_uri": "https://localhost:8080/",
          "height": 34
        }
      },
      "source": [
        "dados.shape"
      ],
      "execution_count": 0,
      "outputs": [
        {
          "output_type": "execute_result",
          "data": {
            "text/plain": [
              "(195, 13)"
            ]
          },
          "metadata": {
            "tags": []
          },
          "execution_count": 5
        }
      ]
    },
    {
      "cell_type": "code",
      "metadata": {
        "id": "PnB36CSipn0f",
        "colab_type": "code",
        "colab": {}
      },
      "source": [
        "import matplotlib.pyplot as plt"
      ],
      "execution_count": 0,
      "outputs": []
    },
    {
      "cell_type": "code",
      "metadata": {
        "id": "vAYjxAJBpt7B",
        "colab_type": "code",
        "outputId": "3f0f9b49-839a-476c-baa5-60c07655ba98",
        "colab": {
          "base_uri": "https://localhost:8080/",
          "height": 308
        }
      },
      "source": [
        "plt.rcParams.update({'font.size': 14})\n",
        "plt.scatter(dados['pc_prev'],dados['pc_obs'])\n",
        "plt.ylabel('pc_obs')\n",
        "plt.xlabel('pc_prev')"
      ],
      "execution_count": 0,
      "outputs": [
        {
          "output_type": "execute_result",
          "data": {
            "text/plain": [
              "Text(0.5, 0, 'pc_prev')"
            ]
          },
          "metadata": {
            "tags": []
          },
          "execution_count": 7
        },
        {
          "output_type": "display_data",
          "data": {
            "image/png": "[encoded data removed]",
            "text/plain": [
              "<Figure size 432x288 with 1 Axes>"
            ]
          },
          "metadata": {
            "tags": []
          }
        }
      ]
    },
    {
      "cell_type": "code",
      "metadata": {
        "id": "efeeS5HdO2KW",
        "colab_type": "code",
        "outputId": "b237bfb2-ce63-4cad-ba05-476773be53a1",
        "colab": {
          "base_uri": "https://localhost:8080/",
          "height": 291
        }
      },
      "source": [
        "plt.plot(dados['pc_obs'],'.r')\n",
        "plt.plot(dados['pc_prev'],'.k')\n",
        "plt.legend(['pc_obs','pc_prev'])\n",
        "plt.ylabel('pc_obs')\n",
        "plt.xlabel('pc_prev')\n",
        "plt.show()"
      ],
      "execution_count": 0,
      "outputs": [
        {
          "output_type": "display_data",
          "data": {
            "image/png": "[encoded data removed]",
            "text/plain": [
              "<Figure size 432x288 with 1 Axes>"
            ]
          },
          "metadata": {
            "tags": []
          }
        }
      ]
    },
    {
      "cell_type": "code",
      "metadata": {
        "id": "GL7rv3ik59Ce",
        "colab_type": "code",
        "colab": {}
      },
      "source": [
        "import numpy as np"
      ],
      "execution_count": 0,
      "outputs": []
    },
    {
      "cell_type": "code",
      "metadata": {
        "id": "7JMfqT9-84k4",
        "colab_type": "code",
        "colab": {}
      },
      "source": [
        "y = dados[ \n",
        "          'pc_obs'].values"
      ],
      "execution_count": 0,
      "outputs": []
    },
    {
      "cell_type": "code",
      "metadata": {
        "id": "QU68N8nT8_Ae",
        "colab_type": "code",
        "outputId": "0af0c5fe-7060-47d0-ef80-faef0c252d42",
        "colab": {
          "base_uri": "https://localhost:8080/",
          "height": 136
        }
      },
      "source": [
        "X = dados[\n",
        "          [           \n",
        "           \n",
        "          'ps_prev',\t\t'tp_prev',\t'tc_prev',\t'rd_prev',\t'ws_prev',\t'pc_prev','rh_prev'\n",
        "    ]\n",
        "    ].values\n",
        "print(X)"
      ],
      "execution_count": 0,
      "outputs": [
        {
          "output_type": "stream",
          "text": [
            "[[1.0080e+03 2.7300e+01 1.0000e+00 ... 3.6300e+00 1.0000e-01 7.0100e+01]\n",
            " [1.0082e+03 2.6740e+01 9.4000e-01 ... 1.9500e+00 2.0000e-01 7.3500e+01]\n",
            " [1.0090e+03 2.6070e+01 9.8000e-01 ... 1.0600e+00 1.0000e-01 7.7000e+01]\n",
            " ...\n",
            " [1.0117e+03 2.3710e+01 9.2000e-01 ... 1.7500e+00 2.0000e-01 8.1600e+01]\n",
            " [1.0125e+03 2.5730e+01 9.0000e-01 ... 4.6600e+00 2.0000e-01 7.3900e+01]\n",
            " [1.0126e+03 2.6210e+01 9.6000e-01 ... 5.3900e+00 2.0000e-01 7.1000e+01]]\n"
          ],
          "name": "stdout"
        }
      ]
    },
    {
      "cell_type": "code",
      "metadata": {
        "id": "-7CNuzrl9-RW",
        "colab_type": "code",
        "outputId": "deeb8af6-2e99-4ad5-912c-f7ea85bf887f",
        "colab": {
          "base_uri": "https://localhost:8080/",
          "height": 136
        }
      },
      "source": [
        "X = X/np.amax(X,axis=0)\n",
        "print(X, len(X))"
      ],
      "execution_count": 0,
      "outputs": [
        {
          "output_type": "stream",
          "text": [
            "[[0.99339706 0.97430407 1.         ... 0.49253731 0.01960784 0.75783784]\n",
            " [0.99359417 0.95431834 0.94       ... 0.26458616 0.03921569 0.79459459]\n",
            " [0.99438258 0.93040685 0.98       ... 0.14382632 0.01960784 0.83243243]\n",
            " ...\n",
            " [0.99704346 0.8461813  0.92       ... 0.23744912 0.03921569 0.88216216]\n",
            " [0.99783187 0.91827266 0.9        ... 0.63229308 0.03921569 0.79891892]\n",
            " [0.99793042 0.93540328 0.96       ... 0.73134328 0.03921569 0.76756757]] 195\n"
          ],
          "name": "stdout"
        }
      ]
    },
    {
      "cell_type": "code",
      "metadata": {
        "id": "55F35ngW-szs",
        "colab_type": "code",
        "outputId": "f207f42a-d4c6-4cbc-edfb-b075f0add0eb",
        "colab": {
          "base_uri": "https://localhost:8080/",
          "height": 578
        }
      },
      "source": [
        "ymax=np.amax(y)\n",
        "y = y/ymax\n",
        "print(y, len (y))"
      ],
      "execution_count": 0,
      "outputs": [
        {
          "output_type": "stream",
          "text": [
            "[0.26725566 0.070127   0.01435671 0.01435671 0.01435671 0.05632247\n",
            " 0.05632247 0.05632247 0.01435671 0.01435671 0.05632247 0.02816124\n",
            " 0.01435671 0.30977361 0.02816124 0.01435671 0.01435671 0.01435671\n",
            " 0.01435671 0.01435671 0.02816124 0.04251795 0.08448371 0.02816124\n",
            " 0.08448371 0.14080618 0.35229155 0.2954169  0.04251795 0.08448371\n",
            " 0.04251795 0.01435671 0.01435671 0.01435671 0.11264495 0.08448371\n",
            " 0.04251795 0.45057979 0.08448371 0.15461071 1.         0.61954721\n",
            " 0.21093319 0.21093319 0.05632247 0.14080618 0.01435671 0.01435671\n",
            " 0.02816124 0.52125897 0.7747101  0.19712866 0.01435671 0.01435671\n",
            " 0.05632247 0.01435671 0.070127   0.04251795 0.08448371 0.09828824\n",
            " 0.02816124 0.070127   0.16896742 0.05632247 0.070127   0.01435671\n",
            " 0.05632247 0.01435671 0.01435671 0.05632247 0.25345113 0.01435671\n",
            " 0.25345113 0.02816124 0.04251795 0.09884042 0.5350635  0.19712866\n",
            " 0.21148537 0.09828824 0.09828824 0.01435671 0.01435671 0.01435671\n",
            " 0.05632247 0.05632247 0.04251795 0.15461071 0.12644948 0.09828824\n",
            " 0.04251795 0.01435671 0.14080618 0.01435671 0.7747101  0.04251795\n",
            " 0.40806184 0.070127   0.01435671 0.11264495 0.01435671 0.11264495\n",
            " 0.070127   0.01435671 0.01435671 0.01435671 0.19712866 0.02816124\n",
            " 0.01435671 0.070127   0.01435671 0.33793484 0.05632247 0.02816124\n",
            " 0.01435671 0.05632247 0.12644948 0.02816124 0.09828824 0.04251795\n",
            " 0.28161237 0.12644948 0.37990061 0.02816124 0.01435671 0.01435671\n",
            " 0.01435671 0.08448371 0.12644948 0.01435671 0.01435671 0.01435671\n",
            " 0.09828824 0.01435671 0.01435671 0.11264495 0.81667587 0.11264495\n",
            " 0.40806184 0.12644948 0.05632247 0.01435671 0.01435671 0.02816124\n",
            " 0.25345113 0.01435671 0.18277195 0.01435671 0.01435671 0.04251795\n",
            " 0.02816124 0.070127   0.02816124 0.35173937 0.04251795 0.02816124\n",
            " 0.05632247 0.14080618 0.21093319 0.070127   0.25345113 0.05632247\n",
            " 0.25345113 0.05632247 0.02816124 0.01435671 0.08448371 0.02816124\n",
            " 0.05632247 0.01435671 0.01435671 0.05632247 0.04251795 0.15516289\n",
            " 0.08448371 0.09884042 0.01435671 0.070127   0.12644948 0.02816124\n",
            " 0.01435671 0.070127   0.01435671 0.02816124 0.08448371 0.04251795\n",
            " 0.01435671 0.01435671 0.01435671 0.02816124 0.05632247 0.04251795\n",
            " 0.08448371 0.32357813 0.02816124] 195\n"
          ],
          "name": "stdout"
        }
      ]
    },
    {
      "cell_type": "code",
      "metadata": {
        "id": "STfdRDHG-ycV",
        "colab_type": "code",
        "colab": {}
      },
      "source": [
        "def sigmoid(Soma):\n",
        "    return 1/(1+np.exp(-Soma))\n",
        "\n",
        "def relu(Soma):\n",
        "    return np.maximum(0,Soma)"
      ],
      "execution_count": 0,
      "outputs": []
    },
    {
      "cell_type": "code",
      "metadata": {
        "id": "pCRyskWe-1xz",
        "colab_type": "code",
        "colab": {}
      },
      "source": [
        "arquitetura = [\n",
        "    {\"dim_entrada\": 7, \"dim_saida\": 100, \"ativacao\": \"relu\"},\n",
        "    {\"dim_entrada\": 100, \"dim_saida\": 100, \"ativacao\": \"relu\"},\n",
        "    {\"dim_entrada\": 100, \"dim_saida\": 1000, \"ativacao\": \"relu\"},    \n",
        "    {\"dim_entrada\": 1000, \"dim_saida\": 100, \"ativacao\": \"relu\"},\n",
        "    {\"dim_entrada\": 100, \"dim_saida\": 1, \"ativacao\": \"sigmoid\"},\n",
        "    \n",
        "]"
      ],
      "execution_count": 0,
      "outputs": []
    },
    {
      "cell_type": "code",
      "metadata": {
        "id": "i7cFy1Cb-6CE",
        "colab_type": "code",
        "colab": {}
      },
      "source": [
        "def inicia_camadas(arquitetura, seed = 99):\n",
        "    # inicia os valores aleatórios\n",
        "    np.random.seed(seed)\n",
        "    # numero de camadas da rede neural\n",
        "    numero_de_camadas = len(arquitetura)\n",
        "    # inicia armazenamento de parametros\n",
        "    valores_parametros = {}\n",
        "    \n",
        "    # itera nas camadas da rede\n",
        "    for indice, camada in enumerate(arquitetura):\n",
        "        \n",
        "        indice_camada = indice + 1\n",
        "        \n",
        "        # extrai o numero de nodos nas camadas\n",
        "        tamanho_camada_entrada = camada[\"dim_entrada\"]\n",
        "        tamanho_camada_saida = camada[\"dim_saida\"]\n",
        "        \n",
        "        # inicia os valores na matriz de pesos P\n",
        "        # e o vetor de viés ou bias b\n",
        "        valores_parametros['P' + str(indice_camada)] = np.random.randn(\n",
        "            tamanho_camada_saida, tamanho_camada_entrada)  * 0.1\n",
        "        valores_parametros['b' + str(indice_camada)] = np.random.randn(\n",
        "            tamanho_camada_saida, 1) * 0.1\n",
        "        \n",
        "    return valores_parametros"
      ],
      "execution_count": 0,
      "outputs": []
    },
    {
      "cell_type": "code",
      "metadata": {
        "id": "M8NwIv39_Bqc",
        "colab_type": "code",
        "colab": {}
      },
      "source": [
        "def propaga_uma_camada(Ativado_anterior, Pesos_atual, b_atual, ativacao=\"relu\"):\n",
        "    # cálculo da entrada para a função de ativação\n",
        "    Saida_atual = np.dot(Pesos_atual, Ativado_anterior) + b_atual\n",
        "    \n",
        "    # selecção da função de ativação\n",
        "    if ativacao is \"relu\":\n",
        "        func_ativacao = relu\n",
        "    elif ativacao is \"sigmoid\":\n",
        "        func_ativacao = sigmoid\n",
        "    else:\n",
        "        raise Exception('Ainda não implementamos essa funcao')\n",
        "        \n",
        "    # retorna a ativação calculada Ativado_atual e a matriz intermediária Saida\n",
        "    return func_ativacao(Saida_atual), Saida_atual"
      ],
      "execution_count": 0,
      "outputs": []
    },
    {
      "cell_type": "code",
      "metadata": {
        "id": "xlnolc3u_Hlw",
        "colab_type": "code",
        "colab": {}
      },
      "source": [
        "def propaga_total(X, valores_parametros, arquitetura):\n",
        "    # memoria temporaria para a retropropagacao\n",
        "    memoria = {}\n",
        "    # O vetor X é a ativação para a camada 0 \n",
        "    Ativado_atual = X\n",
        "    \n",
        "    # iterações para as camadas\n",
        "    for indice, camada in enumerate(arquitetura):\n",
        "        # a numeração das camadas começa de 1\n",
        "        indice_camada = indice + 1\n",
        "        # utiliza a ativação da iteração anterior\n",
        "        Ativado_anterior = Ativado_atual\n",
        "        \n",
        "        # extrai a função de ativação para a camada atual\n",
        "        func_ativacao_atual = camada[\"ativacao\"]\n",
        "        # extrai os pesos da camada atual\n",
        "        Pesos_atual = valores_parametros[\"P\" + str(indice_camada)]\n",
        "        # extrai o bias para a camada atual\n",
        "        b_atual = valores_parametros[\"b\" + str(indice_camada)]\n",
        "        # cálculo da ativação para a camada atual\n",
        "        Ativado_atual, Saida_atual = propaga_uma_camada(Ativado_anterior, Pesos_atual, b_atual, func_ativacao_atual)\n",
        "        \n",
        "        # salca os valores calculados na memória\n",
        "        memoria[\"A\" + str(indice)] = Ativado_anterior\n",
        "        memoria[\"Z\" + str(indice_camada)] = Saida_atual\n",
        "       \n",
        "    # retorna o vetor predito e um dicionário contendo os valores intermediários\n",
        "    return Ativado_atual, memoria"
      ],
      "execution_count": 0,
      "outputs": []
    },
    {
      "cell_type": "code",
      "metadata": {
        "id": "XQFbxKXg_KYD",
        "colab_type": "code",
        "colab": {}
      },
      "source": [
        "valores_parametros = inicia_camadas(arquitetura, seed = 99)\n",
        "y_estimado, memoria = propaga_total(np.transpose(X), valores_parametros, arquitetura)"
      ],
      "execution_count": 0,
      "outputs": []
    },
    {
      "cell_type": "code",
      "metadata": {
        "id": "Ks0dRmfq_gUW",
        "colab_type": "code",
        "outputId": "04e40611-2886-46d7-a216-30963de130c9",
        "colab": {
          "base_uri": "https://localhost:8080/",
          "height": 34
        }
      },
      "source": [
        "y_estimado[0,0]*ymax"
      ],
      "execution_count": 0,
      "outputs": [
        {
          "output_type": "execute_result",
          "data": {
            "text/plain": [
              "8.200825821117824"
            ]
          },
          "metadata": {
            "tags": []
          },
          "execution_count": 20
        }
      ]
    },
    {
      "cell_type": "code",
      "metadata": {
        "id": "LFTPGIai_jBw",
        "colab_type": "code",
        "outputId": "f2d62d96-54db-49ff-989e-7005f88dac9c",
        "colab": {
          "base_uri": "https://localhost:8080/",
          "height": 34
        }
      },
      "source": [
        "y[0]*ymax"
      ],
      "execution_count": 0,
      "outputs": [
        {
          "output_type": "execute_result",
          "data": {
            "text/plain": [
              "4.84"
            ]
          },
          "metadata": {
            "tags": []
          },
          "execution_count": 21
        }
      ]
    },
    {
      "cell_type": "code",
      "metadata": {
        "id": "euleyv6p_mNa",
        "colab_type": "code",
        "colab": {}
      },
      "source": [
        "def atualiza(valores_parametros, gradidentes, arquitetura, taxa_aprendizagem):\n",
        "\n",
        "    # iterações pelas camadas\n",
        "    for indice_camada, camada in enumerate(arquitetura, 1):\n",
        "        valores_parametros[\"P\" + str(indice_camada)] -= taxa_aprendizagem * gradidentes[\"dP\" + str(indice_camada)]        \n",
        "        valores_parametros[\"b\" + str(indice_camada)] -= taxa_aprendizagem * gradidentes[\"db\" + str(indice_camada)]\n",
        "\n",
        "    return valores_parametros;"
      ],
      "execution_count": 0,
      "outputs": []
    },
    {
      "cell_type": "code",
      "metadata": {
        "id": "cpg6s7o4_o1v",
        "colab_type": "code",
        "colab": {}
      },
      "source": [
        "def valor_de_custo(Y_predito, Y):\n",
        "    # numero_de_exemplos\n",
        "    m = Y_predito.shape[1]\n",
        "    \n",
        "    custo = -1 / m * (np.dot(Y, np.log(Y_predito).T) + np.dot(1 - Y, np.log(1 - Y_predito).T))\n",
        "    return np.squeeze(custo)"
      ],
      "execution_count": 0,
      "outputs": []
    },
    {
      "cell_type": "code",
      "metadata": {
        "id": "T1NaNJXw_s_H",
        "colab_type": "code",
        "colab": {}
      },
      "source": [
        "def retropropagacao_total(Y_predito, Y, memoria, valores_parametros, arquitetura):\n",
        "   \n",
        "    gradientes = {}\n",
        "    \n",
        "    # numero de exemplos\n",
        "    #m = Y.shape[1]\n",
        "    # para garantir que os dois vetores tenham a mesma dimensão\n",
        "    Y = Y.reshape(Y_predito.shape)\n",
        "    \n",
        "    # inicia o algoritmo de gradiente descendente\n",
        "    dAtivado_anterior = - (np.divide(Y, Y_predito) - np.divide(1 - Y, 1 - Y_predito));\n",
        "    \n",
        "    for indice_camada_anterior, camada in reversed(list(enumerate(arquitetura))):\n",
        "        \n",
        "        indice_camada_atual = indice_camada_anterior + 1\n",
        "        # Função de ativação para a camada atual\n",
        "        \n",
        "        funcao_ativao_atual = camada[\"ativacao\"]\n",
        "        \n",
        "        dAtivado_atual = dAtivado_anterior\n",
        "        \n",
        "        Ativado_anterior = memoria[\"A\" + str(indice_camada_anterior)]\n",
        "        Saida_atual = memoria[\"Z\" + str(indice_camada_atual)]\n",
        "        \n",
        "        Pesos_atual = valores_parametros[\"P\" + str(indice_camada_atual)]\n",
        "        b_atual = valores_parametros[\"b\" + str(indice_camada_atual)]\n",
        "        \n",
        "        dAtivado_anterior, dPesos_atual, db_atual = retropropagacao_uma_camada(\n",
        "            dAtivado_atual, Pesos_atual, b_atual, Saida_atual, Ativado_anterior, funcao_ativao_atual)\n",
        "        \n",
        "        gradientes[\"dP\" + str(indice_camada_atual)] = dPesos_atual\n",
        "        gradientes[\"db\" + str(indice_camada_atual)] = db_atual\n",
        "    \n",
        "    return gradientes"
      ],
      "execution_count": 0,
      "outputs": []
    },
    {
      "cell_type": "code",
      "metadata": {
        "id": "bN07wrUt_vzu",
        "colab_type": "code",
        "colab": {}
      },
      "source": [
        "def sigmoid_retro(dAtivado, Saida):\n",
        "    sig = sigmoid(Saida)\n",
        "    return dAtivado * sig * (1 - sig)\n",
        "\n",
        "def relu_retro(dAtivado, Saida):\n",
        "    dSaida = np.array(dAtivado, copy = True)\n",
        "    dSaida[Saida <= 0] = 0;\n",
        "    return dSaida;"
      ],
      "execution_count": 0,
      "outputs": []
    },
    {
      "cell_type": "code",
      "metadata": {
        "id": "uzE8vUVr_yP2",
        "colab_type": "code",
        "colab": {}
      },
      "source": [
        "def retropropagacao_uma_camada(dAtivado_atual, Pesos_atual, b_atual, Saida_atual, Ativado_anterior, ativacao=\"relu\"):\n",
        "    # número de exemplos\n",
        "    m = Ativado_anterior.shape[1]\n",
        "    \n",
        "    # seleção função de ativação\n",
        "    if ativacao is \"relu\":\n",
        "        func_ativacao_retro = relu_retro\n",
        "    elif ativacao is \"sigmoid\":\n",
        "        func_ativacao_retro = sigmoid_retro\n",
        "    else:\n",
        "        raise Exception('Ainda não implementamos essa funcao')\n",
        "    \n",
        "    # derivada da função de ativação\n",
        "    dSaida_atual = func_ativacao_retro(dAtivado_atual, Saida_atual)\n",
        "    \n",
        "    # derivada da matriz de Pesos\n",
        "    dPesos_atual = np.dot(dSaida_atual, Ativado_anterior.T) / m\n",
        "    # derivada do vetor b\n",
        "    db_atual = np.sum(dSaida_atual, axis=1, keepdims=True) / m\n",
        "    # derivada da matriz A_anterior\n",
        "    dAtivado_anterior = np.dot(Pesos_atual.T, dSaida_atual)\n",
        "\n",
        "    return dAtivado_anterior, dPesos_atual, db_atual"
      ],
      "execution_count": 0,
      "outputs": []
    },
    {
      "cell_type": "code",
      "metadata": {
        "id": "fs3j2tS-_16u",
        "colab_type": "code",
        "colab": {}
      },
      "source": [
        "def treino(X, Y,X_teste,Y_teste, arquitetura, epocas, taxa_aprendizagem):\n",
        "    # Inicia os parâmetros da rede neural\n",
        "    valores_parametros = inicia_camadas(arquitetura, 2)\n",
        "    # Listas que vão guardar o progresso da aprendizagem da rede \n",
        "    historia_custo = []\n",
        "    historia_custo_teste = []\n",
        "   \n",
        "    \n",
        "    # Atualiza a cada época\n",
        "    for i in range(epocas):\n",
        "        # Propaga a rede - Foward propagation\n",
        "        Y_predito, memoria = propaga_total(X, valores_parametros, arquitetura)\n",
        "        \n",
        "        Y_predito_teste, memoria2 = propaga_total(X_teste, valores_parametros, \n",
        "                                                  arquitetura)\n",
        "        \n",
        "        # calcula as métricas e salva nas listas de história\n",
        "        custo = valor_de_custo(Y_predito, Y)\n",
        "        historia_custo.append(custo)\n",
        "        custo_teste = valor_de_custo(Y_predito_teste, Y_teste)\n",
        "        historia_custo_teste.append(custo_teste)\n",
        "        \n",
        "        \n",
        "        # Retropropagação - Backpropagation\n",
        "        gradientes = retropropagacao_total(Y_predito, Y, memoria, \n",
        "                                           valores_parametros, arquitetura)\n",
        "        # Atualiza os pesos\n",
        "        valores_parametros = atualiza(valores_parametros, gradientes, \n",
        "                                      arquitetura, taxa_aprendizagem)\n",
        "        \n",
        "        if(i % 50 == 0):\n",
        "            \n",
        "            print(\"Iteração: {:05} - custo: {:.5f} \".format(i, custo))\n",
        "            \n",
        "            \n",
        "    return valores_parametros, historia_custo, historia_custo_teste"
      ],
      "execution_count": 0,
      "outputs": []
    },
    {
      "cell_type": "code",
      "metadata": {
        "id": "jKvokzSo_4nf",
        "colab_type": "code",
        "colab": {}
      },
      "source": [
        "from sklearn.model_selection import train_test_split"
      ],
      "execution_count": 0,
      "outputs": []
    },
    {
      "cell_type": "code",
      "metadata": {
        "id": "TmUag-eB_7rg",
        "colab_type": "code",
        "colab": {}
      },
      "source": [
        "X_treino, X_teste, y_treino, y_teste = train_test_split( X, y, test_size=0.43, random_state=42)"
      ],
      "execution_count": 0,
      "outputs": []
    },
    {
      "cell_type": "code",
      "metadata": {
        "id": "1oxlKHuqAA_C",
        "colab_type": "code",
        "outputId": "dd3228f1-d73c-4f60-b81a-dc8a5a98c4a6",
        "colab": {
          "base_uri": "https://localhost:8080/",
          "height": 1000
        }
      },
      "source": [
        "# Treinamento\n",
        "valores_parametros, historia_custo, historia_custo_teste = treino(np.transpose(X_treino), np.transpose(y_treino.reshape((y_treino.shape[0], 1))), \n",
        "                                                                  np.transpose(X_teste), np.transpose(y_teste.reshape((y_teste.shape[0], 1))), \n",
        "                                                                  arquitetura, 20000, 0.01)"
      ],
      "execution_count": 0,
      "outputs": [
        {
          "output_type": "stream",
          "text": [
            "Iteração: 00000 - custo: 0.56956 \n",
            "Iteração: 00050 - custo: 0.33761 \n",
            "Iteração: 00100 - custo: 0.33577 \n",
            "Iteração: 00150 - custo: 0.33541 \n",
            "Iteração: 00200 - custo: 0.33512 \n",
            "Iteração: 00250 - custo: 0.33485 \n",
            "Iteração: 00300 - custo: 0.33464 \n",
            "Iteração: 00350 - custo: 0.33444 \n",
            "Iteração: 00400 - custo: 0.33424 \n",
            "Iteração: 00450 - custo: 0.33403 \n",
            "Iteração: 00500 - custo: 0.33382 \n",
            "Iteração: 00550 - custo: 0.33354 \n",
            "Iteração: 00600 - custo: 0.33332 \n",
            "Iteração: 00650 - custo: 0.33312 \n",
            "Iteração: 00700 - custo: 0.33294 \n",
            "Iteração: 00750 - custo: 0.33277 \n",
            "Iteração: 00800 - custo: 0.33260 \n",
            "Iteração: 00850 - custo: 0.33244 \n",
            "Iteração: 00900 - custo: 0.33228 \n",
            "Iteração: 00950 - custo: 0.33211 \n",
            "Iteração: 01000 - custo: 0.33194 \n",
            "Iteração: 01050 - custo: 0.33176 \n",
            "Iteração: 01100 - custo: 0.33159 \n",
            "Iteração: 01150 - custo: 0.33142 \n",
            "Iteração: 01200 - custo: 0.33125 \n",
            "Iteração: 01250 - custo: 0.33109 \n",
            "Iteração: 01300 - custo: 0.33093 \n",
            "Iteração: 01350 - custo: 0.33078 \n",
            "Iteração: 01400 - custo: 0.33063 \n",
            "Iteração: 01450 - custo: 0.33047 \n",
            "Iteração: 01500 - custo: 0.33032 \n",
            "Iteração: 01550 - custo: 0.33016 \n",
            "Iteração: 01600 - custo: 0.33001 \n",
            "Iteração: 01650 - custo: 0.32986 \n",
            "Iteração: 01700 - custo: 0.32972 \n",
            "Iteração: 01750 - custo: 0.32957 \n",
            "Iteração: 01800 - custo: 0.32942 \n",
            "Iteração: 01850 - custo: 0.32927 \n",
            "Iteração: 01900 - custo: 0.32913 \n",
            "Iteração: 01950 - custo: 0.32899 \n",
            "Iteração: 02000 - custo: 0.32885 \n",
            "Iteração: 02050 - custo: 0.32871 \n",
            "Iteração: 02100 - custo: 0.32857 \n",
            "Iteração: 02150 - custo: 0.32843 \n",
            "Iteração: 02200 - custo: 0.32829 \n",
            "Iteração: 02250 - custo: 0.32815 \n",
            "Iteração: 02300 - custo: 0.32802 \n",
            "Iteração: 02350 - custo: 0.32789 \n",
            "Iteração: 02400 - custo: 0.32776 \n",
            "Iteração: 02450 - custo: 0.32762 \n",
            "Iteração: 02500 - custo: 0.32749 \n",
            "Iteração: 02550 - custo: 0.32736 \n",
            "Iteração: 02600 - custo: 0.32724 \n",
            "Iteração: 02650 - custo: 0.32712 \n",
            "Iteração: 02700 - custo: 0.32700 \n",
            "Iteração: 02750 - custo: 0.32688 \n",
            "Iteração: 02800 - custo: 0.32676 \n",
            "Iteração: 02850 - custo: 0.32665 \n",
            "Iteração: 02900 - custo: 0.32653 \n",
            "Iteração: 02950 - custo: 0.32642 \n",
            "Iteração: 03000 - custo: 0.32632 \n",
            "Iteração: 03050 - custo: 0.32621 \n",
            "Iteração: 03100 - custo: 0.32611 \n",
            "Iteração: 03150 - custo: 0.32600 \n",
            "Iteração: 03200 - custo: 0.32590 \n",
            "Iteração: 03250 - custo: 0.32580 \n",
            "Iteração: 03300 - custo: 0.32570 \n",
            "Iteração: 03350 - custo: 0.32561 \n",
            "Iteração: 03400 - custo: 0.32551 \n",
            "Iteração: 03450 - custo: 0.32543 \n",
            "Iteração: 03500 - custo: 0.32534 \n",
            "Iteração: 03550 - custo: 0.32525 \n",
            "Iteração: 03600 - custo: 0.32517 \n",
            "Iteração: 03650 - custo: 0.32509 \n",
            "Iteração: 03700 - custo: 0.32501 \n",
            "Iteração: 03750 - custo: 0.32494 \n",
            "Iteração: 03800 - custo: 0.32486 \n",
            "Iteração: 03850 - custo: 0.32479 \n",
            "Iteração: 03900 - custo: 0.32472 \n",
            "Iteração: 03950 - custo: 0.32465 \n",
            "Iteração: 04000 - custo: 0.32458 \n",
            "Iteração: 04050 - custo: 0.32451 \n",
            "Iteração: 04100 - custo: 0.32445 \n",
            "Iteração: 04150 - custo: 0.32438 \n",
            "Iteração: 04200 - custo: 0.32432 \n",
            "Iteração: 04250 - custo: 0.32426 \n",
            "Iteração: 04300 - custo: 0.32420 \n",
            "Iteração: 04350 - custo: 0.32414 \n",
            "Iteração: 04400 - custo: 0.32408 \n",
            "Iteração: 04450 - custo: 0.32403 \n",
            "Iteração: 04500 - custo: 0.32397 \n",
            "Iteração: 04550 - custo: 0.32392 \n",
            "Iteração: 04600 - custo: 0.32387 \n",
            "Iteração: 04650 - custo: 0.32381 \n",
            "Iteração: 04700 - custo: 0.32376 \n",
            "Iteração: 04750 - custo: 0.32371 \n",
            "Iteração: 04800 - custo: 0.32366 \n",
            "Iteração: 04850 - custo: 0.32361 \n",
            "Iteração: 04900 - custo: 0.32356 \n",
            "Iteração: 04950 - custo: 0.32352 \n",
            "Iteração: 05000 - custo: 0.32347 \n",
            "Iteração: 05050 - custo: 0.32342 \n",
            "Iteração: 05100 - custo: 0.32337 \n",
            "Iteração: 05150 - custo: 0.32333 \n",
            "Iteração: 05200 - custo: 0.32328 \n",
            "Iteração: 05250 - custo: 0.32324 \n",
            "Iteração: 05300 - custo: 0.32319 \n",
            "Iteração: 05350 - custo: 0.32315 \n",
            "Iteração: 05400 - custo: 0.32310 \n",
            "Iteração: 05450 - custo: 0.32306 \n",
            "Iteração: 05500 - custo: 0.32302 \n",
            "Iteração: 05550 - custo: 0.32297 \n",
            "Iteração: 05600 - custo: 0.32291 \n",
            "Iteração: 05650 - custo: 0.32287 \n",
            "Iteração: 05700 - custo: 0.32283 \n",
            "Iteração: 05750 - custo: 0.32278 \n",
            "Iteração: 05800 - custo: 0.32274 \n",
            "Iteração: 05850 - custo: 0.32269 \n",
            "Iteração: 05900 - custo: 0.32265 \n",
            "Iteração: 05950 - custo: 0.32261 \n",
            "Iteração: 06000 - custo: 0.32256 \n",
            "Iteração: 06050 - custo: 0.32252 \n",
            "Iteração: 06100 - custo: 0.32247 \n",
            "Iteração: 06150 - custo: 0.32243 \n",
            "Iteração: 06200 - custo: 0.32238 \n",
            "Iteração: 06250 - custo: 0.32234 \n",
            "Iteração: 06300 - custo: 0.32229 \n",
            "Iteração: 06350 - custo: 0.32225 \n",
            "Iteração: 06400 - custo: 0.32220 \n",
            "Iteração: 06450 - custo: 0.32216 \n",
            "Iteração: 06500 - custo: 0.32212 \n",
            "Iteração: 06550 - custo: 0.32207 \n",
            "Iteração: 06600 - custo: 0.32203 \n",
            "Iteração: 06650 - custo: 0.32198 \n",
            "Iteração: 06700 - custo: 0.32194 \n",
            "Iteração: 06750 - custo: 0.32190 \n",
            "Iteração: 06800 - custo: 0.32185 \n",
            "Iteração: 06850 - custo: 0.32181 \n",
            "Iteração: 06900 - custo: 0.32177 \n",
            "Iteração: 06950 - custo: 0.32172 \n",
            "Iteração: 07000 - custo: 0.32168 \n",
            "Iteração: 07050 - custo: 0.32163 \n",
            "Iteração: 07100 - custo: 0.32158 \n",
            "Iteração: 07150 - custo: 0.32153 \n",
            "Iteração: 07200 - custo: 0.32148 \n",
            "Iteração: 07250 - custo: 0.32144 \n",
            "Iteração: 07300 - custo: 0.32140 \n",
            "Iteração: 07350 - custo: 0.32136 \n",
            "Iteração: 07400 - custo: 0.32132 \n",
            "Iteração: 07450 - custo: 0.32128 \n",
            "Iteração: 07500 - custo: 0.32124 \n",
            "Iteração: 07550 - custo: 0.32120 \n",
            "Iteração: 07600 - custo: 0.32116 \n",
            "Iteração: 07650 - custo: 0.32112 \n",
            "Iteração: 07700 - custo: 0.32108 \n",
            "Iteração: 07750 - custo: 0.32104 \n",
            "Iteração: 07800 - custo: 0.32099 \n",
            "Iteração: 07850 - custo: 0.32095 \n",
            "Iteração: 07900 - custo: 0.32091 \n",
            "Iteração: 07950 - custo: 0.32087 \n",
            "Iteração: 08000 - custo: 0.32083 \n",
            "Iteração: 08050 - custo: 0.32079 \n",
            "Iteração: 08100 - custo: 0.32075 \n",
            "Iteração: 08150 - custo: 0.32071 \n",
            "Iteração: 08200 - custo: 0.32067 \n",
            "Iteração: 08250 - custo: 0.32062 \n",
            "Iteração: 08300 - custo: 0.32058 \n",
            "Iteração: 08350 - custo: 0.32054 \n",
            "Iteração: 08400 - custo: 0.32050 \n",
            "Iteração: 08450 - custo: 0.32046 \n",
            "Iteração: 08500 - custo: 0.32042 \n",
            "Iteração: 08550 - custo: 0.32038 \n",
            "Iteração: 08600 - custo: 0.32034 \n",
            "Iteração: 08650 - custo: 0.32029 \n",
            "Iteração: 08700 - custo: 0.32024 \n",
            "Iteração: 08750 - custo: 0.32019 \n",
            "Iteração: 08800 - custo: 0.32014 \n",
            "Iteração: 08850 - custo: 0.32009 \n",
            "Iteração: 08900 - custo: 0.32003 \n",
            "Iteração: 08950 - custo: 0.31997 \n",
            "Iteração: 09000 - custo: 0.31991 \n",
            "Iteração: 09050 - custo: 0.31985 \n",
            "Iteração: 09100 - custo: 0.31980 \n",
            "Iteração: 09150 - custo: 0.31972 \n",
            "Iteração: 09200 - custo: 0.31966 \n",
            "Iteração: 09250 - custo: 0.31961 \n",
            "Iteração: 09300 - custo: 0.31957 \n",
            "Iteração: 09350 - custo: 0.31952 \n",
            "Iteração: 09400 - custo: 0.31948 \n",
            "Iteração: 09450 - custo: 0.31943 \n",
            "Iteração: 09500 - custo: 0.31938 \n",
            "Iteração: 09550 - custo: 0.31934 \n",
            "Iteração: 09600 - custo: 0.31929 \n",
            "Iteração: 09650 - custo: 0.31925 \n",
            "Iteração: 09700 - custo: 0.31921 \n",
            "Iteração: 09750 - custo: 0.31916 \n",
            "Iteração: 09800 - custo: 0.31912 \n",
            "Iteração: 09850 - custo: 0.31907 \n",
            "Iteração: 09900 - custo: 0.31903 \n",
            "Iteração: 09950 - custo: 0.31898 \n",
            "Iteração: 10000 - custo: 0.31894 \n",
            "Iteração: 10050 - custo: 0.31889 \n",
            "Iteração: 10100 - custo: 0.31885 \n",
            "Iteração: 10150 - custo: 0.31880 \n",
            "Iteração: 10200 - custo: 0.31876 \n",
            "Iteração: 10250 - custo: 0.31871 \n",
            "Iteração: 10300 - custo: 0.31867 \n",
            "Iteração: 10350 - custo: 0.31862 \n",
            "Iteração: 10400 - custo: 0.31857 \n",
            "Iteração: 10450 - custo: 0.31853 \n",
            "Iteração: 10500 - custo: 0.31848 \n",
            "Iteração: 10550 - custo: 0.31843 \n",
            "Iteração: 10600 - custo: 0.31838 \n",
            "Iteração: 10650 - custo: 0.31834 \n",
            "Iteração: 10700 - custo: 0.31828 \n",
            "Iteração: 10750 - custo: 0.31823 \n",
            "Iteração: 10800 - custo: 0.31817 \n",
            "Iteração: 10850 - custo: 0.31812 \n",
            "Iteração: 10900 - custo: 0.31807 \n",
            "Iteração: 10950 - custo: 0.31802 \n",
            "Iteração: 11000 - custo: 0.31795 \n",
            "Iteração: 11050 - custo: 0.31790 \n",
            "Iteração: 11100 - custo: 0.31785 \n",
            "Iteração: 11150 - custo: 0.31780 \n",
            "Iteração: 11200 - custo: 0.31775 \n",
            "Iteração: 11250 - custo: 0.31769 \n",
            "Iteração: 11300 - custo: 0.31764 \n",
            "Iteração: 11350 - custo: 0.31758 \n",
            "Iteração: 11400 - custo: 0.31753 \n",
            "Iteração: 11450 - custo: 0.31748 \n",
            "Iteração: 11500 - custo: 0.31742 \n",
            "Iteração: 11550 - custo: 0.31738 \n",
            "Iteração: 11600 - custo: 0.31732 \n",
            "Iteração: 11650 - custo: 0.31727 \n",
            "Iteração: 11700 - custo: 0.31722 \n",
            "Iteração: 11750 - custo: 0.31717 \n",
            "Iteração: 11800 - custo: 0.31712 \n",
            "Iteração: 11850 - custo: 0.31706 \n",
            "Iteração: 11900 - custo: 0.31702 \n",
            "Iteração: 11950 - custo: 0.31697 \n",
            "Iteração: 12000 - custo: 0.31692 \n",
            "Iteração: 12050 - custo: 0.31687 \n",
            "Iteração: 12100 - custo: 0.31682 \n",
            "Iteração: 12150 - custo: 0.31677 \n",
            "Iteração: 12200 - custo: 0.31672 \n",
            "Iteração: 12250 - custo: 0.31667 \n",
            "Iteração: 12300 - custo: 0.31661 \n",
            "Iteração: 12350 - custo: 0.31656 \n",
            "Iteração: 12400 - custo: 0.31650 \n",
            "Iteração: 12450 - custo: 0.31645 \n",
            "Iteração: 12500 - custo: 0.31639 \n",
            "Iteração: 12550 - custo: 0.31634 \n",
            "Iteração: 12600 - custo: 0.31629 \n",
            "Iteração: 12650 - custo: 0.31623 \n",
            "Iteração: 12700 - custo: 0.31618 \n",
            "Iteração: 12750 - custo: 0.31613 \n",
            "Iteração: 12800 - custo: 0.31607 \n",
            "Iteração: 12850 - custo: 0.31601 \n",
            "Iteração: 12900 - custo: 0.31595 \n",
            "Iteração: 12950 - custo: 0.31590 \n",
            "Iteração: 13000 - custo: 0.31584 \n",
            "Iteração: 13050 - custo: 0.31579 \n",
            "Iteração: 13100 - custo: 0.31573 \n",
            "Iteração: 13150 - custo: 0.31568 \n",
            "Iteração: 13200 - custo: 0.31562 \n",
            "Iteração: 13250 - custo: 0.31556 \n",
            "Iteração: 13300 - custo: 0.31551 \n",
            "Iteração: 13350 - custo: 0.31545 \n",
            "Iteração: 13400 - custo: 0.31539 \n",
            "Iteração: 13450 - custo: 0.31533 \n",
            "Iteração: 13500 - custo: 0.31528 \n",
            "Iteração: 13550 - custo: 0.31521 \n",
            "Iteração: 13600 - custo: 0.31515 \n",
            "Iteração: 13650 - custo: 0.31510 \n",
            "Iteração: 13700 - custo: 0.31503 \n",
            "Iteração: 13750 - custo: 0.31497 \n",
            "Iteração: 13800 - custo: 0.31491 \n",
            "Iteração: 13850 - custo: 0.31485 \n",
            "Iteração: 13900 - custo: 0.31478 \n",
            "Iteração: 13950 - custo: 0.31473 \n",
            "Iteração: 14000 - custo: 0.31465 \n",
            "Iteração: 14050 - custo: 0.31459 \n",
            "Iteração: 14100 - custo: 0.31452 \n",
            "Iteração: 14150 - custo: 0.31445 \n",
            "Iteração: 14200 - custo: 0.31438 \n",
            "Iteração: 14250 - custo: 0.31432 \n",
            "Iteração: 14300 - custo: 0.31425 \n",
            "Iteração: 14350 - custo: 0.31418 \n",
            "Iteração: 14400 - custo: 0.31412 \n",
            "Iteração: 14450 - custo: 0.31405 \n",
            "Iteração: 14500 - custo: 0.31398 \n",
            "Iteração: 14550 - custo: 0.31393 \n",
            "Iteração: 14600 - custo: 0.31384 \n",
            "Iteração: 14650 - custo: 0.31377 \n",
            "Iteração: 14700 - custo: 0.31370 \n",
            "Iteração: 14750 - custo: 0.31363 \n",
            "Iteração: 14800 - custo: 0.31356 \n",
            "Iteração: 14850 - custo: 0.31349 \n",
            "Iteração: 14900 - custo: 0.31342 \n",
            "Iteração: 14950 - custo: 0.31334 \n",
            "Iteração: 15000 - custo: 0.31328 \n",
            "Iteração: 15050 - custo: 0.31320 \n",
            "Iteração: 15100 - custo: 0.31314 \n",
            "Iteração: 15150 - custo: 0.31306 \n",
            "Iteração: 15200 - custo: 0.31300 \n",
            "Iteração: 15250 - custo: 0.31293 \n",
            "Iteração: 15300 - custo: 0.31284 \n",
            "Iteração: 15350 - custo: 0.31278 \n",
            "Iteração: 15400 - custo: 0.31271 \n",
            "Iteração: 15450 - custo: 0.31263 \n",
            "Iteração: 15500 - custo: 0.31256 \n",
            "Iteração: 15550 - custo: 0.31248 \n",
            "Iteração: 15600 - custo: 0.31242 \n",
            "Iteração: 15650 - custo: 0.31233 \n",
            "Iteração: 15700 - custo: 0.31226 \n",
            "Iteração: 15750 - custo: 0.31218 \n",
            "Iteração: 15800 - custo: 0.31210 \n",
            "Iteração: 15850 - custo: 0.31203 \n",
            "Iteração: 15900 - custo: 0.31195 \n",
            "Iteração: 15950 - custo: 0.31189 \n",
            "Iteração: 16000 - custo: 0.31180 \n",
            "Iteração: 16050 - custo: 0.31173 \n",
            "Iteração: 16100 - custo: 0.31165 \n",
            "Iteração: 16150 - custo: 0.31157 \n",
            "Iteração: 16200 - custo: 0.31150 \n",
            "Iteração: 16250 - custo: 0.31141 \n",
            "Iteração: 16300 - custo: 0.31134 \n",
            "Iteração: 16350 - custo: 0.31126 \n",
            "Iteração: 16400 - custo: 0.31117 \n",
            "Iteração: 16450 - custo: 0.31110 \n",
            "Iteração: 16500 - custo: 0.31101 \n",
            "Iteração: 16550 - custo: 0.31094 \n",
            "Iteração: 16600 - custo: 0.31087 \n",
            "Iteração: 16650 - custo: 0.31077 \n",
            "Iteração: 16700 - custo: 0.31069 \n",
            "Iteração: 16750 - custo: 0.31059 \n",
            "Iteração: 16800 - custo: 0.31050 \n",
            "Iteração: 16850 - custo: 0.31042 \n",
            "Iteração: 16900 - custo: 0.31034 \n",
            "Iteração: 16950 - custo: 0.31026 \n",
            "Iteração: 17000 - custo: 0.31019 \n",
            "Iteração: 17050 - custo: 0.31009 \n",
            "Iteração: 17100 - custo: 0.31000 \n",
            "Iteração: 17150 - custo: 0.30992 \n",
            "Iteração: 17200 - custo: 0.30983 \n",
            "Iteração: 17250 - custo: 0.30974 \n",
            "Iteração: 17300 - custo: 0.30966 \n",
            "Iteração: 17350 - custo: 0.30958 \n",
            "Iteração: 17400 - custo: 0.30949 \n",
            "Iteração: 17450 - custo: 0.30943 \n",
            "Iteração: 17500 - custo: 0.30935 \n",
            "Iteração: 17550 - custo: 0.30924 \n",
            "Iteração: 17600 - custo: 0.30915 \n",
            "Iteração: 17650 - custo: 0.30907 \n",
            "Iteração: 17700 - custo: 0.30898 \n",
            "Iteração: 17750 - custo: 0.30891 \n",
            "Iteração: 17800 - custo: 0.30881 \n",
            "Iteração: 17850 - custo: 0.30874 \n",
            "Iteração: 17900 - custo: 0.30864 \n",
            "Iteração: 17950 - custo: 0.30854 \n",
            "Iteração: 18000 - custo: 0.30845 \n",
            "Iteração: 18050 - custo: 0.30837 \n",
            "Iteração: 18100 - custo: 0.30826 \n",
            "Iteração: 18150 - custo: 0.30817 \n",
            "Iteração: 18200 - custo: 0.30809 \n",
            "Iteração: 18250 - custo: 0.30801 \n",
            "Iteração: 18300 - custo: 0.30790 \n",
            "Iteração: 18350 - custo: 0.30780 \n",
            "Iteração: 18400 - custo: 0.30773 \n",
            "Iteração: 18450 - custo: 0.30764 \n",
            "Iteração: 18500 - custo: 0.30755 \n",
            "Iteração: 18550 - custo: 0.30746 \n",
            "Iteração: 18600 - custo: 0.30736 \n",
            "Iteração: 18650 - custo: 0.30727 \n",
            "Iteração: 18700 - custo: 0.30719 \n",
            "Iteração: 18750 - custo: 0.30710 \n",
            "Iteração: 18800 - custo: 0.30700 \n",
            "Iteração: 18850 - custo: 0.30694 \n",
            "Iteração: 18900 - custo: 0.30684 \n",
            "Iteração: 18950 - custo: 0.30674 \n",
            "Iteração: 19000 - custo: 0.30667 \n",
            "Iteração: 19050 - custo: 0.30657 \n",
            "Iteração: 19100 - custo: 0.30646 \n",
            "Iteração: 19150 - custo: 0.30638 \n",
            "Iteração: 19200 - custo: 0.30629 \n",
            "Iteração: 19250 - custo: 0.30620 \n",
            "Iteração: 19300 - custo: 0.30610 \n",
            "Iteração: 19350 - custo: 0.30601 \n",
            "Iteração: 19400 - custo: 0.30593 \n",
            "Iteração: 19450 - custo: 0.30582 \n",
            "Iteração: 19500 - custo: 0.30572 \n",
            "Iteração: 19550 - custo: 0.30563 \n",
            "Iteração: 19600 - custo: 0.30554 \n",
            "Iteração: 19650 - custo: 0.30544 \n",
            "Iteração: 19700 - custo: 0.30534 \n",
            "Iteração: 19750 - custo: 0.30525 \n",
            "Iteração: 19800 - custo: 0.30513 \n",
            "Iteração: 19850 - custo: 0.30506 \n",
            "Iteração: 19900 - custo: 0.30495 \n",
            "Iteração: 19950 - custo: 0.30486 \n"
          ],
          "name": "stdout"
        }
      ]
    },
    {
      "cell_type": "code",
      "metadata": {
        "id": "jXxfiaDKAlz3",
        "colab_type": "code",
        "outputId": "38a17d30-a1e7-49af-da86-9d3e0b9fd58d",
        "colab": {
          "base_uri": "https://localhost:8080/",
          "height": 293
        }
      },
      "source": [
        "plt.plot(historia_custo,'g')\n",
        "plt.plot(historia_custo_teste, 'r')\n",
        "plt.legend(['Treinamento','Teste'])\n",
        "plt.ylabel('Custo')\n",
        "plt.xlabel('Épocas')\n",
        "plt.show()"
      ],
      "execution_count": 0,
      "outputs": [
        {
          "output_type": "display_data",
          "data": {
            "image/png": "[encoded data removed]",
            "text/plain": [
              "<Figure size 432x288 with 1 Axes>"
            ]
          },
          "metadata": {
            "tags": []
          }
        }
      ]
    },
    {
      "cell_type": "code",
      "metadata": {
        "id": "nL4ER1M6A7QQ",
        "colab_type": "code",
        "colab": {}
      },
      "source": [
        "# Previsão\n",
        "Y_pred, _ = propaga_total(np.transpose(X_teste), valores_parametros, arquitetura)"
      ],
      "execution_count": 0,
      "outputs": []
    },
    {
      "cell_type": "code",
      "metadata": {
        "id": "t6XHN4BUBB7D",
        "colab_type": "code",
        "outputId": "0ae425eb-efe9-4761-c20b-a4f300b51229",
        "colab": {
          "base_uri": "https://localhost:8080/",
          "height": 291
        }
      },
      "source": [
        "plt.plot(np.transpose(X_teste)[1],ymax*y_teste,'.r')\n",
        "plt.plot(np.transpose(X_teste)[1],ymax*Y_pred.reshape([-1,1]),'.g')\n",
        "plt.legend(['Reais','Preditos'])\n",
        "plt.ylabel('pc_obs')\n",
        "plt.xlabel('pc_prev')\n",
        "plt.show()"
      ],
      "execution_count": 0,
      "outputs": [
        {
          "output_type": "display_data",
          "data": {
            "image/png": "[encoded data removed]",
            "text/plain": [
              "<Figure size 432x288 with 1 Axes>"
            ]
          },
          "metadata": {
            "tags": []
          }
        }
      ]
    },
    {
      "cell_type": "code",
      "metadata": {
        "id": "-_1-lsRKQyY1",
        "colab_type": "code",
        "colab": {}
      },
      "source": [
        "from sklearn.metrics import accuracy_score\n",
        "from sklearn.ensemble import RandomForestRegressor\n",
        "from sklearn.metrics import f1_score"
      ],
      "execution_count": 0,
      "outputs": []
    },
    {
      "cell_type": "code",
      "metadata": {
        "id": "Yw7yMJXUyUps",
        "colab_type": "code",
        "colab": {}
      },
      "source": [
        "prev = []\n",
        "real = []\n",
        "for i in ymax*Y_pred.reshape([-1,1]):\n",
        "    prev.append(i[0])\n",
        "for i in ymax*y_teste:\n",
        "    real.append(i)"
      ],
      "execution_count": 0,
      "outputs": []
    },
    {
      "cell_type": "code",
      "metadata": {
        "id": "GuARIc-O4Gg1",
        "colab_type": "code",
        "outputId": "62930c19-c91c-4dc4-9cda-7da189d99bb8",
        "colab": {
          "base_uri": "https://localhost:8080/",
          "height": 34
        }
      },
      "source": [
        "dados['error'] = abs(dados['pc_prev'] - dados['pc_obs'])\n",
        "dados['error'] = dados['error']/dados['pc_obs']\n",
        "sum(dados['error'])/len(dados['error'])\n",
        "\n"
      ],
      "execution_count": 0,
      "outputs": [
        {
          "output_type": "execute_result",
          "data": {
            "text/plain": [
              "1.0596899521419825"
            ]
          },
          "metadata": {
            "tags": []
          },
          "execution_count": 36
        }
      ]
    },
    {
      "cell_type": "code",
      "metadata": {
        "id": "cbRci2Sj43S1",
        "colab_type": "code",
        "outputId": "06a8bcec-54dc-46c1-fb89-d06cb9ee0bf2",
        "colab": {
          "base_uri": "https://localhost:8080/",
          "height": 34
        }
      },
      "source": [
        "erro = abs(np.array(prev)-np.array(real))\n",
        "sum(erro)/len(erro)\n"
      ],
      "execution_count": 0,
      "outputs": [
        {
          "output_type": "execute_result",
          "data": {
            "text/plain": [
              "1.999857515787237"
            ]
          },
          "metadata": {
            "tags": []
          },
          "execution_count": 37
        }
      ]
    }
  ]
}